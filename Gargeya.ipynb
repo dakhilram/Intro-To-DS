{
  "nbformat": 4,
  "nbformat_minor": 0,
  "metadata": {
    "colab": {
      "provenance": []
    },
    "kernelspec": {
      "name": "python3",
      "display_name": "Python 3"
    },
    "language_info": {
      "name": "python"
    }
  },
  "cells": [
    {
      "cell_type": "markdown",
      "source": [
        "DASC 5133"
      ],
      "metadata": {
        "id": "65A3hedtiz0q"
      }
    },
    {
      "cell_type": "code",
      "execution_count": 1,
      "metadata": {
        "colab": {
          "base_uri": "https://localhost:8080/"
        },
        "id": "vYH9P1lliss6",
        "outputId": "6c50ed3d-b6ca-4fb3-c8ac-56b227af27c1"
      },
      "outputs": [
        {
          "output_type": "stream",
          "name": "stdout",
          "text": [
            "Introduction to Data Science\n"
          ]
        }
      ],
      "source": [
        "print(\"Introduction to Data Science\")"
      ]
    }
  ]
}