{
  "nbformat": 4,
  "nbformat_minor": 0,
  "metadata": {
    "colab": {
      "provenance": [],
      "authorship_tag": "ABX9TyP6OGmJAlk8DIVdnOjBWugk",
      "include_colab_link": true
    },
    "kernelspec": {
      "name": "python3",
      "display_name": "Python 3"
    },
    "language_info": {
      "name": "python"
    }
  },
  "cells": [
    {
      "cell_type": "markdown",
      "metadata": {
        "id": "view-in-github",
        "colab_type": "text"
      },
      "source": [
        "<a href=\"https://colab.research.google.com/github/dakhilram/Intro-To-DS/blob/main/Lecture%201.ipynb\" target=\"_parent\"><img src=\"https://colab.research.google.com/assets/colab-badge.svg\" alt=\"Open In Colab\"/></a>"
      ]
    },
    {
      "cell_type": "markdown",
      "source": [
        "$Software Packages$"
      ],
      "metadata": {
        "id": "dULiyZ7If_CJ"
      }
    },
    {
      "cell_type": "code",
      "source": [
        "import pandas as pd #for Linear Algebra\n",
        "import numpy as np # for numericals\n",
        "import matplotlib.pyplot as plt # for plotting\n",
        "import seaborn as sns #for plotting more beautiful\n"
      ],
      "metadata": {
        "id": "Wzr3qMOKgySr"
      },
      "execution_count": 3,
      "outputs": []
    },
    {
      "cell_type": "markdown",
      "source": [
        "#Data Science Lifecycle"
      ],
      "metadata": {
        "id": "ghs5Ou8niuBP"
      }
    },
    {
      "cell_type": "markdown",
      "source": [
        "1. Starting with a question : Who are you?"
      ],
      "metadata": {
        "id": "VPXlJmO3jBz5"
      }
    },
    {
      "cell_type": "markdown",
      "source": [
        "1. How many students in the class?\n",
        "2. Class timmings?\n",
        "3. Who is the Professor?\n",
        "4. Which room we are in?\n",
        "5. What are the majors?\n",
        "6. What year are you in?\n"
      ],
      "metadata": {
        "id": "vsAyjjAUkAtv"
      }
    }
  ]
}