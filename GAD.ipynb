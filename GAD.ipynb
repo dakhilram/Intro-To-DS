{
  "nbformat": 4,
  "nbformat_minor": 0,
  "metadata": {
    "colab": {
      "provenance": []
    },
    "kernelspec": {
      "name": "python3",
      "display_name": "Python 3"
    },
    "language_info": {
      "name": "python"
    }
  },
  "cells": [
    {
      "cell_type": "code",
      "execution_count": 1,
      "metadata": {
        "colab": {
          "base_uri": "https://localhost:8080/"
        },
        "id": "Y6NwN_Ahmfbh",
        "outputId": "17bd43f9-b903-48d8-e0a9-2dc9fac6eccf"
      },
      "outputs": [
        {
          "output_type": "stream",
          "name": "stdout",
          "text": [
            "[10 20 30]\n"
          ]
        }
      ],
      "source": [
        "import numpy as np\n",
        "\n",
        "arr= np.array([10, 20, 30])\n",
        "print (arr)"
      ]
    },
    {
      "cell_type": "code",
      "source": [
        "arr= np.array([[10, 20],[30, 40]])\n",
        "print (arr)"
      ],
      "metadata": {
        "colab": {
          "base_uri": "https://localhost:8080/"
        },
        "id": "R3SYJnCrmp3Z",
        "outputId": "2bd5dda4-2f69-4a4a-c7ba-a30f5b363b9b"
      },
      "execution_count": 2,
      "outputs": [
        {
          "output_type": "stream",
          "name": "stdout",
          "text": [
            "[[10 20]\n",
            " [30 40]]\n"
          ]
        }
      ]
    },
    {
      "cell_type": "code",
      "source": [
        "arr= np.array([10, 20, 30], dtype=complex)\n",
        "print (arr)"
      ],
      "metadata": {
        "colab": {
          "base_uri": "https://localhost:8080/"
        },
        "id": "Hltt9mr5m5QK",
        "outputId": "99c96482-09dc-43ae-fde1-484347acd057"
      },
      "execution_count": 3,
      "outputs": [
        {
          "output_type": "stream",
          "name": "stdout",
          "text": [
            "[10.+0.j 20.+0.j 30.+0.j]\n"
          ]
        }
      ]
    }
  ]
}